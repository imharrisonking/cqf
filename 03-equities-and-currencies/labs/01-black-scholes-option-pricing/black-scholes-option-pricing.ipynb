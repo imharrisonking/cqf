{
 "cells": [
  {
   "cell_type": "markdown",
   "metadata": {},
   "source": [
    "# Black Scholes Option Pricing\n",
    "\n",
    "## Black Scholes Model\n",
    "\n",
    "The Black Scholes model was published in 1973 for non-dividend paying stocks and since then the model has created a revolution in quantitative finance and opened up derivatives pricing paradigm. Black Scholes model is based on number of assumptions about how financial markets operate and those are:\n",
    "\n",
    "- Arbitrage Free Markets\n",
    "\n",
    "- Frictionless and Continuous Markets\n",
    "\n",
    "- Risk Free Rates\n",
    "\n",
    "- Log-normally Distributed Price Movements\n",
    "\n",
    "- Constant Volatility\n",
    "\n",
    "These assumptions maynot hold true in reality, but are not particularly limiting. The generalized Black Scholes framework have been extended to price derivaties of other asset classes such as Black 76 (Commodity Futures) and Garman-Kohlhagen (FX Futures) that are currently used in derivative pricing and risk management.\n",
    "\n",
    "### Black Scholes Formula\n",
    "\n",
    "The Black-Scholes equation describes the price of the option over time as\n",
    "\n",
    "$$\n",
    "\\frac{\\partial V}{\\partial t}+\\frac{1}{2} \\sigma^{2} S^{2} \\frac{\\partial^{2} V}{\\partial S^{2}}+r S \\frac{\\partial V}{\\partial S}-r V=0\n",
    "$$\n",
    "\n",
    "Solving the above equation, we know that the value of a call option for a non-dividend paying stock is:\n",
    "\n",
    "$$\n",
    "C=S N\\left(d_{1}\\right)-K e^{-r t} N\\left(d_{2}\\right)\n",
    "$$\n",
    "\n",
    "and, the corresponding put option price is:\n",
    "\n",
    "$$\n",
    "P=K e^{-r t} N\\left(-d_{2}\\right)-S N\\left(-d_{1}\\right)\n",
    "$$\n",
    "\n",
    "where, \n",
    "\n",
    "$$\n",
    "\\begin{gathered}\n",
    "d_{1}=\\frac{1}{\\sigma \\sqrt{t}}\\left[\\ln \\left(\\frac{S}{K}\\right)+\\left(r+\\frac{\\sigma^{2}}{2}\\right) t\\right] \\\\\n",
    "d_{2}=d_{1}-\\sigma \\sqrt{t} \\\\\n",
    "N(x)=\\frac{1}{\\sqrt{2 \\pi}} \\int_{-\\infty}^{x} \\mathrm{e}^{-\\frac{1}{2} x^{2}} d x\n",
    "\\end{gathered}\n",
    "$$\n",
    "\n",
    "$S$ is the spot price of the underlying asset $K$ is the strike price $r$ is the annualized continuous compounded risk free rate $\\sigma$ is the volatility of returns of the underlying asset $t$ is time to maturity (expressed in years) $N(x)$ is the standard normal cumulative distribution\n",
    "\n",
    "### Greeks\n",
    "\n",
    "| Description |                           | Greeks for Call Option          | Greeks for Put Option           |\n",
    "|-------------|---------------------------|---------------------------------|----------------------------------|\n",
    "| Delta       | $\\frac{\\partial V}{\\partial S}$ Sensitivity of Value to changes in price | $N(d₁)$                         | $-N(-d₁)$                        |\n",
    "| Gamma       | $\\frac{\\partial^2 V}{\\partial S^2}$ Sensitivity of Delta to changes in price | $\\frac{N'(d₁)}{Sσ\\sqrt{t}}$      |                                  |\n",
    "| Vega        | $\\frac{\\partial V}{\\partial \\sigma}$ Sensitivity of Value to changes in volatility | $S N'(d₁)\\sqrt{t}$              |                                  |\n",
    "| Theta       | $\\frac{\\partial V}{\\partial t}$ Sensitivity of Value to changes in time | $-\\frac{S N'(d₁)σ}{2\\sqrt{t}} - rKe^{-rt}N(d₂)$ | $-\\frac{S N'(d₁)σ}{2\\sqrt{t}} + rKe^{-rt}N(-d₂)$ |\n",
    "| Rho         | $\\frac{\\partial V}{\\partial r}$ Sensitivity of Value to changes in risk-free | $Kte^{-rt}N(d₂)$               | $-Kte^{-rt}N(-d₂)$               |"
   ]
  },
  {
   "cell_type": "markdown",
   "metadata": {},
   "source": [
    "### Import Required Libraries"
   ]
  },
  {
   "cell_type": "code",
   "execution_count": 8,
   "metadata": {},
   "outputs": [],
   "source": [
    "# Importing libraries\n",
    "import pandas as pd\n",
    "from numpy import *\n",
    "import yfinance as yf\n",
    "from scipy.stats import norm\n",
    "from datetime import datetime\n",
    "\n",
    "# Plotting\n",
    "import matplotlib.pyplot as plt\n",
    "from tabulate import tabulate\n",
    "\n",
    "# Set max row to 300\n",
    "pd.set_option('display.max_rows', 300)"
   ]
  },
  {
   "cell_type": "markdown",
   "metadata": {},
   "source": [
    "### Options Object\n",
    "\n",
    "Python is an object oriented programming language. Almost everything in Python is an object, with its properties and methods. There are two common programming paradigm in Python.\n",
    "\n",
    "1. Procedural Programming\n",
    "\n",
    "2. Object-oriented Programming (OOP)\n",
    "\n",
    "The key difference between them is that in OOP, objects are at the center, not only representing the data, as in the procedural programming, but in the overall structure of the program as well. \n",
    "\n",
    "We will now construct a Black Scholes Options class"
   ]
  },
  {
   "cell_type": "code",
   "execution_count": 2,
   "metadata": {},
   "outputs": [],
   "source": [
    "class BlackScholes:\n",
    "    \"\"\"\n",
    "    This is a class for Options contract for pricing European options on stocks without dividends.\n",
    "    Attributes:\n",
    "        spot : int or float\n",
    "        strike : int or float\n",
    "        rate : float\n",
    "        dte : int or float [days to expiration in number of years]\n",
    "        volatility : float\n",
    "    \"\"\"\n",
    "    def __init__(self, spot, strike, rate, dte, volatility):\n",
    "        # Spot Price\n",
    "        self.spot = spot\n",
    "        # Option Strike\n",
    "        self.strike = strike\n",
    "\n",
    "        # Interest Rate\n",
    "        self.rate = rate\n",
    "\n",
    "        # Days To Expiration\n",
    "        self.dte = dte\n",
    "        \n",
    "        # Volaitlity\n",
    "        self.volatility = volatility\n",
    "\n",
    "        # Utility\n",
    "        self._a_ = self.volatility * self.dte**0.5\n",
    "\n",
    "        if self.strike == 0:\n",
    "            raise ZeroDivisionError('The strike price cannot be zero')\n",
    "        else:\n",
    "            self._d1_ = (log(self.spot / self.strike) + \n",
    "                        (self.rate + (self.volatility**2) / 2) * self.dte) / self._a_\n",
    "            self._d2_ = self._d1_ - self._a_\n",
    "            self._b_ = e**-(self.rate * self.dte)\n",
    "\n",
    "        # The __dict__ attribute\n",
    "        '''\n",
    "        Contains all the attributes defined for the object itself. It maps the␣\n",
    "        ,→attribute name to its value.\n",
    "        '''\n",
    "        for i in ['callPrice', 'putPrice', 'callDelta', 'putDelta', 'callTheta', 'putTheta',\n",
    "                  'callRho', 'putRho', 'vega', 'gamma']:\n",
    "            self.__dict__[i] = None\n",
    "\n",
    "        [self.callPrice, self.putPrice] = self._price\n",
    "        [self.callDelta, self.putDelta] = self._delta\n",
    "        [self.callTheta, self.putTheta] = self._theta\n",
    "        [self.callRho, self.putRho] = self._rho\n",
    "        self.vega = self._vega\n",
    "        self.gamma = self._gamma\n",
    "    \n",
    "    # Option Price\n",
    "    @property\n",
    "    def _price(self):\n",
    "        '''Returns the option price: [Call price, Put price]'''\n",
    "        if self.volatility == 0 or self.dte == 0:\n",
    "            call = maximum(0.0, self.spot - self.strike)\n",
    "            put = maximum(0.0, self.strike - self.spot)\n",
    "        else:\n",
    "            call = self.spot * norm.cdf(self._d1_) - self.strike * e**(-self.rate * self.dte) \\\n",
    "            * norm.cdf(self._d2_)\n",
    "            put = self.strike * e**(-self.rate * self.dte) * norm.cdf(-self._d2_) - \\\n",
    "                self.spot * norm.cdf(-self._d1_)\n",
    "        \n",
    "        return [call, put]\n",
    "    \n",
    "    # Option Delta\n",
    "    @property\n",
    "    def _delta(self):\n",
    "        '''Returns the option delta: [Call delta, Put delta]'''\n",
    "        if self.volatility == 0 or self.dte == 0:\n",
    "            call = 1.0 if self.spot > self.strike else 0.0\n",
    "            put = -1.0 if self.spot < self.strike else 0.0\n",
    "        else:\n",
    "            call = norm.cdf(self._d1_)\n",
    "            put = -norm.cdf(-self._d1_)\n",
    "        \n",
    "        return [call, put]\n",
    "    \n",
    "    # Option Gamma\n",
    "    @property\n",
    "    def _gamma(self):\n",
    "        '''Returns the option gamma'''\n",
    "        return norm.pdf(self._d1_) / (self.spot * self._a_)\n",
    "\n",
    "    # Option Vega\n",
    "    @property\n",
    "    def _vega(self):\n",
    "        '''Returns the option vega'''\n",
    "        if self.volatility == 0 or self.dte == 0:\n",
    "            return 0.0\n",
    "        else:\n",
    "            return self.spot * norm.pdf(self._d1_) * self.dte**0.5 / 100\n",
    "    \n",
    "    # Option Theta\n",
    "    @property\n",
    "    def _theta(self):\n",
    "        '''Returns the option theta: [Call theta, Put theta]'''\n",
    "        call = -self.spot * norm.pdf(self._d1_) * self.volatility / (2 * self.dte**0.5) \\\n",
    "        - self.rate * self.strike * self._b_ * norm.cdf(self._d2_)\n",
    "\n",
    "        put = -self.spot * norm.pdf(self._d1_) * self.volatility / (2 * self.dte**0.5) + self.rate * \\\n",
    "        self.strike * self._b_ * norm.cdf(-self._d2_)\n",
    "        \n",
    "        return [call / 365, put / 365]\n",
    "    \n",
    "    # Option Rho\n",
    "    @property\n",
    "    def _rho(self):\n",
    "        '''Returns the option rho: [Call rho, Put rho]'''\n",
    "        call = self.strike * self.dte * self._b_ * norm.cdf(self._d2_) / 100\n",
    "        put = -self.strike * self.dte * self._b_ * norm.cdf(-self._d2_) / 100\n",
    "        \n",
    "        return [call, put]"
   ]
  },
  {
   "cell_type": "code",
   "execution_count": 3,
   "metadata": {},
   "outputs": [
    {
     "name": "stdout",
     "output_type": "stream",
     "text": [
      "  Option Price     Delta     Gamma       Theta     Vega       Rho\n",
      "--------------  --------  --------  ----------  -------  --------\n",
      "       10.4506  0.636831  0.018762  -0.0175727  0.37524  0.532325\n"
     ]
    }
   ],
   "source": [
    "# Initialise the option\n",
    "option = BlackScholes(100, 100, 0.05, 1, 0.2)\n",
    "\n",
    "header = ['Option Price', 'Delta', 'Gamma', 'Theta', 'Vega', 'Rho']\n",
    "table = [[option.callPrice, option.callDelta, option.gamma, option.callTheta, option.vega, option.callRho]]\n",
    "print(tabulate(table,header))"
   ]
  },
  {
   "cell_type": "code",
   "execution_count": 6,
   "metadata": {},
   "outputs": [
    {
     "name": "stdout",
     "output_type": "stream",
     "text": [
      "  Option Price     Delta      Gamma       Theta      Vega       Rho\n",
      "--------------  --------  ---------  ----------  --------  --------\n",
      "       3.24748  0.287192  0.0170369  -0.0128246  0.340738  0.254717\n"
     ]
    }
   ],
   "source": [
    "# Initialise another option\n",
    "option = BlackScholes(100, 120, 0.05, 1, 0.2)\n",
    "\n",
    "header = ['Option Price', 'Delta', 'Gamma', 'Theta', 'Vega', 'Rho']\n",
    "table = [[option.callPrice, option.callDelta, option.gamma, option.callTheta, option.vega, option.callRho]]\n",
    "print(tabulate(table,header))"
   ]
  },
  {
   "cell_type": "markdown",
   "metadata": {},
   "source": [
    "## SPY Option\n",
    "Let’s now retrieve SPY option price from Yahoo Finance using yfinance library and manipulate\n",
    "the dataframe using the above Black Scholes option pricing model that we created.\n",
    "\n",
    "https://finance.yahoo.com/quote/SPY/options?date=1692921600&p=SPY"
   ]
  },
  {
   "cell_type": "code",
   "execution_count": 7,
   "metadata": {},
   "outputs": [],
   "source": [
    "# Get SPY option chain\n",
    "spy = yf.Ticker('SPY')\n",
    "options = spy.option_chain('2023-08-25')"
   ]
  },
  {
   "cell_type": "code",
   "execution_count": 9,
   "metadata": {},
   "outputs": [],
   "source": [
    "# Calculate the days to expiration in number of years\n",
    "dte = (datetime(2023, 8, 25) - datetime.today()).days/365"
   ]
  },
  {
   "cell_type": "code",
   "execution_count": 12,
   "metadata": {},
   "outputs": [
    {
     "name": "stdout",
     "output_type": "stream",
     "text": [
      "Option Price of SPY230825C00450000 with BS Model is (-2.5-1.1181150138190787j)\n"
     ]
    }
   ],
   "source": [
    "# August 2023 450 SPY call option price\n",
    "spot = 445; strike = 450; rate = 0.0; dte = dte; vol = 0.1248\n",
    "spy_opt = BlackScholes(spot,strike,rate,dte,vol)\n",
    "print(f'Option Price of SPY230825C00450000 with BS Model is {spy_opt.callPrice}')"
   ]
  },
  {
   "cell_type": "code",
   "execution_count": 13,
   "metadata": {},
   "outputs": [
    {
     "data": {
      "text/html": [
       "<div>\n",
       "<style scoped>\n",
       "    .dataframe tbody tr th:only-of-type {\n",
       "        vertical-align: middle;\n",
       "    }\n",
       "\n",
       "    .dataframe tbody tr th {\n",
       "        vertical-align: top;\n",
       "    }\n",
       "\n",
       "    .dataframe thead th {\n",
       "        text-align: right;\n",
       "    }\n",
       "</style>\n",
       "<table border=\"1\" class=\"dataframe\">\n",
       "  <thead>\n",
       "    <tr style=\"text-align: right;\">\n",
       "      <th></th>\n",
       "      <th>contractSymbol</th>\n",
       "      <th>lastTradeDate</th>\n",
       "      <th>strike</th>\n",
       "      <th>lastPrice</th>\n",
       "      <th>bid</th>\n",
       "      <th>ask</th>\n",
       "      <th>change</th>\n",
       "      <th>percentChange</th>\n",
       "      <th>volume</th>\n",
       "      <th>openInterest</th>\n",
       "      <th>impliedVolatility</th>\n",
       "      <th>inTheMoney</th>\n",
       "      <th>contractSize</th>\n",
       "      <th>currency</th>\n",
       "    </tr>\n",
       "  </thead>\n",
       "  <tbody>\n",
       "    <tr>\n",
       "      <th>0</th>\n",
       "      <td>SPY230825C00275000</td>\n",
       "      <td>2023-08-24 13:52:01+00:00</td>\n",
       "      <td>275.0</td>\n",
       "      <td>163.68</td>\n",
       "      <td>162.6</td>\n",
       "      <td>162.76</td>\n",
       "      <td>-5.240005</td>\n",
       "      <td>-3.102063</td>\n",
       "      <td>6.0</td>\n",
       "      <td>143</td>\n",
       "      <td>0.00001</td>\n",
       "      <td>True</td>\n",
       "      <td>REGULAR</td>\n",
       "      <td>USD</td>\n",
       "    </tr>\n",
       "    <tr>\n",
       "      <th>1</th>\n",
       "      <td>SPY230825C00280000</td>\n",
       "      <td>2023-08-25 14:31:42+00:00</td>\n",
       "      <td>280.0</td>\n",
       "      <td>157.45</td>\n",
       "      <td>157.3</td>\n",
       "      <td>157.46</td>\n",
       "      <td>-5.370010</td>\n",
       "      <td>-3.298127</td>\n",
       "      <td>2.0</td>\n",
       "      <td>86</td>\n",
       "      <td>0.00001</td>\n",
       "      <td>True</td>\n",
       "      <td>REGULAR</td>\n",
       "      <td>USD</td>\n",
       "    </tr>\n",
       "  </tbody>\n",
       "</table>\n",
       "</div>"
      ],
      "text/plain": [
       "       contractSymbol             lastTradeDate  strike  lastPrice    bid  \\\n",
       "0  SPY230825C00275000 2023-08-24 13:52:01+00:00   275.0     163.68  162.6   \n",
       "1  SPY230825C00280000 2023-08-25 14:31:42+00:00   280.0     157.45  157.3   \n",
       "\n",
       "      ask    change  percentChange  volume  openInterest  impliedVolatility  \\\n",
       "0  162.76 -5.240005      -3.102063     6.0           143            0.00001   \n",
       "1  157.46 -5.370010      -3.298127     2.0            86            0.00001   \n",
       "\n",
       "   inTheMoney contractSize currency  \n",
       "0        True      REGULAR      USD  \n",
       "1        True      REGULAR      USD  "
      ]
     },
     "execution_count": 13,
     "metadata": {},
     "output_type": "execute_result"
    }
   ],
   "source": [
    "# Verify the options output\n",
    "options.calls.head(2)"
   ]
  },
  {
   "cell_type": "code",
   "execution_count": 15,
   "metadata": {},
   "outputs": [
    {
     "name": "stderr",
     "output_type": "stream",
     "text": [
      "C:\\Users\\HarrisonK\\AppData\\Local\\Temp\\ipykernel_48164\\2396280728.py:15: SettingWithCopyWarning: \n",
      "A value is trying to be set on a copy of a slice from a DataFrame\n",
      "\n",
      "See the caveats in the documentation: https://pandas.pydata.org/pandas-docs/stable/user_guide/indexing.html#returning-a-view-versus-a-copy\n",
      "  df['Gamma'].iloc[i] = BlackScholes(spot,df['Strike'].iloc[i],rate,dte,df['ImpVol'].iloc[i]).gamma\n",
      "C:\\Users\\HarrisonK\\AppData\\Local\\Temp\\ipykernel_48164\\2396280728.py:16: SettingWithCopyWarning: \n",
      "A value is trying to be set on a copy of a slice from a DataFrame\n",
      "\n",
      "See the caveats in the documentation: https://pandas.pydata.org/pandas-docs/stable/user_guide/indexing.html#returning-a-view-versus-a-copy\n",
      "  df['Vega'].iloc[i] = BlackScholes(spot,df['Strike'].iloc[i],rate,dte,df['ImpVol'].iloc[i]).vega\n",
      "C:\\Users\\HarrisonK\\AppData\\Local\\Temp\\ipykernel_48164\\2396280728.py:17: SettingWithCopyWarning: \n",
      "A value is trying to be set on a copy of a slice from a DataFrame\n",
      "\n",
      "See the caveats in the documentation: https://pandas.pydata.org/pandas-docs/stable/user_guide/indexing.html#returning-a-view-versus-a-copy\n",
      "  df['Theta'].iloc[i] = BlackScholes(spot,df['Strike'].iloc[i],rate,dte,df['ImpVol'].iloc[i]).callTheta\n"
     ]
    },
    {
     "data": {
      "text/html": [
       "<div>\n",
       "<style scoped>\n",
       "    .dataframe tbody tr th:only-of-type {\n",
       "        vertical-align: middle;\n",
       "    }\n",
       "\n",
       "    .dataframe tbody tr th {\n",
       "        vertical-align: top;\n",
       "    }\n",
       "\n",
       "    .dataframe thead th {\n",
       "        text-align: right;\n",
       "    }\n",
       "</style>\n",
       "<table border=\"1\" class=\"dataframe\">\n",
       "  <thead>\n",
       "    <tr style=\"text-align: right;\">\n",
       "      <th></th>\n",
       "      <th>Strike</th>\n",
       "      <th>Price</th>\n",
       "      <th>ImpVol</th>\n",
       "      <th>Delta</th>\n",
       "      <th>Gamma</th>\n",
       "      <th>Vega</th>\n",
       "      <th>Theta</th>\n",
       "    </tr>\n",
       "  </thead>\n",
       "  <tbody>\n",
       "    <tr>\n",
       "      <th>0</th>\n",
       "      <td>450.0</td>\n",
       "      <td>0.01</td>\n",
       "      <td>0.210945</td>\n",
       "      <td>0.500000+0.488310j</td>\n",
       "      <td>0.000000-0.136247j</td>\n",
       "      <td>-0.000000+0.155928j</td>\n",
       "      <td>-0.000000+1.644612j</td>\n",
       "    </tr>\n",
       "    <tr>\n",
       "      <th>1</th>\n",
       "      <td>451.0</td>\n",
       "      <td>0.01</td>\n",
       "      <td>0.226570</td>\n",
       "      <td>0.500000+0.572289j</td>\n",
       "      <td>0.000000-0.143999j</td>\n",
       "      <td>-0.000000+0.177007j</td>\n",
       "      <td>-0.000000+2.005220j</td>\n",
       "    </tr>\n",
       "  </tbody>\n",
       "</table>\n",
       "</div>"
      ],
      "text/plain": [
       "   Strike  Price    ImpVol               Delta               Gamma  \\\n",
       "0   450.0   0.01  0.210945  0.500000+0.488310j  0.000000-0.136247j   \n",
       "1   451.0   0.01  0.226570  0.500000+0.572289j  0.000000-0.143999j   \n",
       "\n",
       "                 Vega               Theta  \n",
       "0 -0.000000+0.155928j -0.000000+1.644612j  \n",
       "1 -0.000000+0.177007j -0.000000+2.005220j  "
      ]
     },
     "execution_count": 15,
     "metadata": {},
     "output_type": "execute_result"
    }
   ],
   "source": [
    "# Filter calls for strike at or above 450\n",
    "df = options.calls[(options.calls['strike']>=450) & (options.calls['strike']<=500)]\n",
    "df.reset_index(drop=True, inplace=True)\n",
    "\n",
    "# Dataframe manipulation with selected fields\n",
    "df = pd.DataFrame({'Strike': df['strike'],\n",
    "                    'Price': df['lastPrice'],\n",
    "                    'ImpVol': df['impliedVolatility']})\n",
    "\n",
    "# Derive greeks and assign to dataframe as columns\n",
    "df['Delta'] = df['Gamma'] = df['Vega'] = df['Theta'] = 0.\n",
    "\n",
    "for i in range(len(df)):\n",
    "    df['Delta'].iloc[i] = BlackScholes(spot,df['Strike'].iloc[i],rate,dte,df['ImpVol'].iloc[i]).callDelta\n",
    "    df['Gamma'].iloc[i] = BlackScholes(spot,df['Strike'].iloc[i],rate,dte,df['ImpVol'].iloc[i]).gamma\n",
    "    df['Vega'].iloc[i] = BlackScholes(spot,df['Strike'].iloc[i],rate,dte,df['ImpVol'].iloc[i]).vega\n",
    "    df['Theta'].iloc[i] = BlackScholes(spot,df['Strike'].iloc[i],rate,dte,df['ImpVol'].iloc[i]).callTheta\n",
    "\n",
    "# Check output\n",
    "df.head(2)"
   ]
  },
  {
   "cell_type": "markdown",
   "metadata": {},
   "source": [
    "### Visualize Data"
   ]
  },
  {
   "cell_type": "code",
   "execution_count": 16,
   "metadata": {},
   "outputs": [
    {
     "name": "stderr",
     "output_type": "stream",
     "text": [
      "c:\\Users\\HarrisonK\\AppData\\Local\\anaconda3\\envs\\cqf\\lib\\site-packages\\matplotlib\\cbook\\__init__.py:1369: ComplexWarning: Casting complex values to real discards the imaginary part\n",
      "  return np.asarray(x, float)\n"
     ]
    },
    {
     "data": {
      "image/png": "[encoded data removed]",
      "text/plain": [
       "<Figure size 2000x1000 with 4 Axes>"
      ]
     },
     "metadata": {},
     "output_type": "display_data"
    }
   ],
   "source": [
    "# Plot graph iteratively\n",
    "fig, ax = plt.subplots(2,2, figsize=(20,10))\n",
    "ax[0,0].plot(df['Strike'], df['Delta'], color='r', label='AUG 23')\n",
    "ax[0,1].plot(df['Strike'], df['Gamma'], color='b', label='AUG 23')\n",
    "ax[1,0].plot(df['Strike'], df['Vega'], color='k', label='AUG 23')\n",
    "ax[1,1].plot(df['Strike'], df['Theta'], color='g', label='AUG 23')\n",
    "\n",
    "# Set axis title\n",
    "ax[0,0].set_title('Delta'), ax[0,1].set_title('Gamma'), ax[1,0].set_title('Vega'), ax[1,1].set_title('Theta')\n",
    "\n",
    "# Define legend\n",
    "ax[0,0].legend(), ax[0,1].legend(), ax[1,0].legend(), ax[1,1].legend()\n",
    "\n",
    "# Set title\n",
    "fig.suptitle('Greeks Vs Strike')\n",
    "plt.show()"
   ]
  },
  {
   "cell_type": "code",
   "execution_count": null,
   "metadata": {},
   "outputs": [],
   "source": []
  }
 ],
 "metadata": {
  "kernelspec": {
   "display_name": "cqf",
   "language": "python",
   "name": "python3"
  },
  "language_info": {
   "codemirror_mode": {
    "name": "ipython",
    "version": 3
   },
   "file_extension": ".py",
   "mimetype": "text/x-python",
   "name": "python",
   "nbconvert_exporter": "python",
   "pygments_lexer": "ipython3",
   "version": "3.8.17"
  },
  "orig_nbformat": 4
 },
 "nbformat": 4,
 "nbformat_minor": 2
}
