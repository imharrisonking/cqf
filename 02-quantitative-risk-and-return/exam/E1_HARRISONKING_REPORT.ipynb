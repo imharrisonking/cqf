{
 "cells": [
  {
   "cell_type": "markdown",
   "metadata": {},
   "source": [
    "<h1 style='text-align: center;'>CQF Exam One Report - Harrison King</h1>\n",
    "<h3 style='text-align: center;'>June 2023 Cohort</h3>"
   ]
  },
  {
   "cell_type": "code",
   "execution_count": 42,
   "metadata": {},
   "outputs": [],
   "source": [
    "# Install dependencies\n",
    "import numpy as np\n",
    "import pandas as pd\n",
    "import scipy.stats as ss\n",
    "import tabulate\n",
    "import matplotlib.pyplot as plt"
   ]
  },
  {
   "cell_type": "markdown",
   "metadata": {},
   "source": [
    "## Optimal Portfolio Allocation\n",
    "\n",
    "An investment universe of the following risky assets with a dependence structure (correlation) applies to all questions below as relevant:\n",
    "\n",
    "$$\\begin{array}{cccc}\\text { Asset } & \\boldsymbol{\\mu} & \\boldsymbol{\\sigma} & \\boldsymbol{w} \\\\ A & 0.05 & 0.07 & w_{1} \\\\ B & 0.07 & 0.28 & w_{2} \\\\ C & 0.15 & 0.25 & w_{3} \\\\ D & 0.22 & 0.31 & w_{4}\\end{array}$$\n",
    "$$\n",
    "\\text {Corr}=\\left(\\begin{array}{cccc}\n",
    "1 & 0.4 & 0.3 & 0.3 \\\\\n",
    "0.4 & 1 & 0.27 & 0.42 \\\\\n",
    "0.3 & 0.27 & 1 & 0.5 \\\\\n",
    "0.3 & 0.42 & 0.5 & 1\n",
    "\\end{array}\\right)\n",
    "$$"
   ]
  },
  {
   "cell_type": "markdown",
   "metadata": {},
   "source": [
    "### Question 1: \n",
    "Global Minimum Variance portfolio is obtained subject to the budget constraint:\n",
    "\n",
    "$$\n",
    "\\underset{\\boldsymbol{w}}{\\operatorname{argmin}} \\frac{1}{2} \\boldsymbol{w}^{\\prime} \\boldsymbol{\\Sigma} \\boldsymbol{w} \\quad \\text { s.t. } \\boldsymbol{w}^{\\prime}\\boldsymbol{1} = 1\n",
    "$$\n",
    "\n",
    "**1.1)** Derive the analytical solution for optimal allocations $\\boldsymbol{w}^{*}$. Provide full mathematical workings.\n",
    "\n",
    "**1.2)** In the derivation, include the formula derivation for the Lagrangian multiplier.\n",
    "\n",
    "**1.3)** Compute optimal allocations (Global MV portfolio) for the given investment universe."
   ]
  },
  {
   "cell_type": "markdown",
   "metadata": {},
   "source": [
    "**1.1)** First define the diagonal standard deviation matrix, $\\boldsymbol{S}$, is defined as follows:\n",
    "\n",
    "$$\n",
    "\\boldsymbol{S}=\\left(\\begin{array}{cccc}\n",
    "{\\sigma}_{A} & 0 & 0 & 0 \\\\\n",
    "0 & {\\sigma}_{B} & 0 & 0 \\\\\n",
    "0 & 0 & {\\sigma}_{C} & 0 \\\\\n",
    "0 & 0 & 0 & {\\sigma}_{D}\n",
    "\\end{array}\\right) = \\left(\\begin{array}{cccc}\n",
    "                    0.07 & 0 & 0 & 0 \\\\\n",
    "                    0 & 0.28 & 0 & 0 \\\\\n",
    "                    0 & 0 & 0.25 & 0 \\\\\n",
    "                    0 & 0 & 0 & 0.31\n",
    "                    \\end{array}\\right)\n",
    "$$\n",
    "\n",
    "We can calculate the covariance matrix, $\\Sigma$ by pre-multiplying and post-multiplying the correlation matrix, $Corr$ by the diagonal standard deviation matrix, $\\boldsymbol{S}$:\n",
    "\n",
    "$$\\Sigma = \\boldsymbol{S}Corr\\boldsymbol{S} = \\left(\\begin{array}{cccc}\n",
    "{\\sigma}_{A}^2 & {\\rho}_{AB}{\\sigma}_{A}{\\sigma}_{B} & {\\rho}_{AC}{\\sigma}_{A}{\\sigma}_{C} & {\\rho}_{AD}{\\sigma}_{A}{\\sigma}_{D} \\\\\n",
    "{\\rho}_{BA}{\\sigma}_{A}{\\sigma}_{B} & {\\sigma}_{B}^2 & {\\rho}_{BC}{\\sigma}_{B}{\\sigma}_{C} & {\\rho}_{BD}{\\sigma}_{B}{\\sigma}_{D} \\\\\n",
    "{\\rho}_{CA}{\\sigma}_{A}{\\sigma}_{C} & {\\rho}_{CB}{\\sigma}_{B}{\\sigma}_{C} & {\\sigma}_{C}^2 & {\\rho}_{CD}{\\sigma}_{C}{\\sigma}_{D} \\\\\n",
    "{\\rho}_{DA}{\\sigma}_{A}{\\sigma}_{D} & {\\rho}_{DB}{\\sigma}_{B}{\\sigma}_{D} & {\\rho}_{DC}{\\sigma}_{C}{\\sigma}_{D} & {\\sigma}_{D}^2\n",
    "\\end{array}\\right)$$\n",
    "\n",
    "&nbsp;\n",
    "\n",
    "Then we can define the Lagrangian function $L(x, \\lambda)$ with one multiplier $\\lambda$ which represents the budget constraint, $\\boldsymbol{w}^{\\prime}\\boldsymbol{1} = 1 == \\boldsymbol{w}\\boldsymbol{1}^{\\prime} = 1$:\n",
    "\n",
    "$L(x, \\lambda) = \\frac{1}{2}\\boldsymbol{w}^{\\prime}{\\Sigma}\\boldsymbol{w} + \\lambda (1-\\boldsymbol{1}^{\\prime}\\boldsymbol{w})$\n",
    "\n",
    "&nbsp;\n",
    "\n",
    "Solving the first order equation of the Lagrangian function we get two partial differential equations:\n",
    "\n",
    "$\\frac{\\partial L}{\\partial w}(w, \\lambda) = \\boldsymbol{w}^{\\prime}{\\Sigma} - \\lambda\\boldsymbol{1}^{\\prime} = 0$\n",
    "\n",
    "$\\frac{\\partial L}{\\partial \\lambda}(w, \\lambda) = 1 - \\boldsymbol{1}^{\\prime}\\boldsymbol{w} = 0$\n",
    "\n",
    "&nbsp;\n",
    "\n",
    "Then we can define the optimal portfolio allocation $\\boldsymbol{w}^{\\ast}$ by multiplying $\\boldsymbol{w}^{\\prime}{\\Sigma} - \\lambda\\boldsymbol{1}^{\\prime} = 0$ by the inverse matrix ${\\Sigma}^{-1}$:\n",
    "\n",
    "$\\boldsymbol{w}^{\\prime}{\\Sigma} = \\lambda\\boldsymbol{1}^{\\prime}$\n",
    "\n",
    "$\\therefore \\boldsymbol{w}^{\\ast} = {\\Sigma}^{-1}(\\lambda\\boldsymbol{1})$ which we can call the candidate function.\n",
    "\n",
    "&nbsp;\n",
    "\n",
    "**1.2)** We can then derive the Lagrangian multiplier $\\lambda$ by substituting $\\boldsymbol{w}^{\\ast}$ into the budget constraint $\\boldsymbol{w}\\boldsymbol{1}^{\\prime} = 1$:\n",
    "\n",
    "$\\boldsymbol{1}^{\\prime}{\\Sigma}^{-1}(\\lambda\\boldsymbol{1}) = \\lambda\\boldsymbol{1}^{\\prime}{\\Sigma}^{-1}\\boldsymbol{1} = 1$\n",
    "\n",
    "$\\therefore \\lambda = \\frac{1}{\\boldsymbol{1}^{\\prime}{\\Sigma}^{-1}\\boldsymbol{1}}$\n",
    "\n",
    "&nbsp;\n",
    "\n",
    "Finally, we can define the optimal portfolio allocation $\\boldsymbol{w}^{\\ast}$ by substituting $\\lambda$ into the candidate function $\\boldsymbol{w}^{\\ast} = {\\Sigma}^{-1}(\\lambda\\boldsymbol{1})$:\n",
    "\n",
    "$$\\text{Optimial Portfolio Allocation } \\boldsymbol{w}^{\\ast} = {\\Sigma}^{-1}(\\lambda\\boldsymbol{1}) = {\\Sigma}^{-1}(\\frac{1}{\\boldsymbol{1}^{\\prime}{\\Sigma}^{-1}\\boldsymbol{1}}\\boldsymbol{1})$$"
   ]
  },
  {
   "cell_type": "markdown",
   "metadata": {},
   "source": [
    "**1.3)** Computing allocations: Define the inputs"
   ]
  },
  {
   "cell_type": "code",
   "execution_count": 43,
   "metadata": {},
   "outputs": [
    {
     "name": "stdout",
     "output_type": "stream",
     "text": [
      "Covariance Matrix:\n",
      "[[0.0049   0.00784  0.00525  0.00651 ]\n",
      " [0.00784  0.0784   0.0189   0.036456]\n",
      " [0.00525  0.0189   0.0625   0.03875 ]\n",
      " [0.00651  0.036456 0.03875  0.0961  ]]\n"
     ]
    }
   ],
   "source": [
    "# Define the assets, standard deviations vector and correlation matrix\n",
    "assets = ['A', 'B', 'C', 'D']\n",
    "std_deviation_vector = np.array([0.07, 0.28, 0.25, 0.31])\n",
    "correlation_matrix = np.array([[1.0, 0.4, 0.3, 0.3], \n",
    "                                 [0.4, 1.0, 0.27, 0.42], \n",
    "                                 [0.3, 0.27, 1.0, 0.5], \n",
    "                                 [0.3, 0.42, 0.5, 1.0]])\n",
    "\n",
    "# Define a function that calculates the covariance matrix using the correlation matrix and the standard deviations vector\n",
    "def calculate_Covariance_Matrix(std_deviation_vector: np.ndarray, correlation_matrix: np.ndarray):\n",
    "    ''' Calculates the covariance matrix from the standard deviation vector and correlation matrix\n",
    "    Args:\n",
    "        std_deviation_vector (np.ndarray): Vector of asset standard deviations\n",
    "        correlation_matrix (np.ndarray): Correlation matrix of assets\n",
    "    '''\n",
    "    return np.outer(std_deviation_vector, std_deviation_vector) * correlation_matrix\n",
    "\n",
    "covariance_matrix = calculate_Covariance_Matrix(std_deviation_vector, correlation_matrix)\n",
    "print(f'Covariance Matrix:\\n{covariance_matrix}')"
   ]
  },
  {
   "cell_type": "code",
   "execution_count": 44,
   "metadata": {},
   "outputs": [
    {
     "name": "stdout",
     "output_type": "stream",
     "text": [
      "Inverse covariance matrix:\n",
      "[[256.33078818 -20.50521083 -12.51725725  -4.53831162]\n",
      " [-20.50521083  17.21811596  -0.39445138  -4.98365996]\n",
      " [-12.51725725  -0.39445138  22.06964258  -7.90146915]\n",
      " [ -4.53831162  -4.98365996  -7.90146915  15.78991307]]\n",
      "\n"
     ]
    }
   ],
   "source": [
    "# Initiliase the 1s vector\n",
    "ones_vector = np.ones(len(assets))\n",
    "\n",
    "# Calculate the inverse of the covariance matrix (Σ^-1)\n",
    "inverse_covariance_matrix = np.linalg.inv(covariance_matrix)\n",
    "print(f'Inverse covariance matrix:\\n{inverse_covariance_matrix}\\n')"
   ]
  },
  {
   "cell_type": "markdown",
   "metadata": {},
   "source": [
    "Computing allocations: Calculate the Lagrangian Multiplier lambda\n",
    "$\\lambda = \\frac{1}{\\boldsymbol{1}^{\\prime}{\\Sigma}^{-1}\\boldsymbol{1}}$"
   ]
  },
  {
   "cell_type": "code",
   "execution_count": 45,
   "metadata": {},
   "outputs": [
    {
     "name": "stdout",
     "output_type": "stream",
     "text": [
      "λ = 0.004768086485896823\n"
     ]
    }
   ],
   "source": [
    "# λ = 1 / 1^'.(Σ^-1).1^\n",
    "lagrangian_lambda = 1 / ones_vector.T.dot(inverse_covariance_matrix).dot(ones_vector)\n",
    "print(f'λ = {lagrangian_lambda}')"
   ]
  },
  {
   "cell_type": "markdown",
   "metadata": {},
   "source": [
    "Computing allocations: Optimal portfolio allocations\n",
    "$\\boldsymbol{w}^{\\ast} = {\\Sigma}^{-1}(\\lambda\\boldsymbol{1})$"
   ]
  },
  {
   "cell_type": "code",
   "execution_count": 46,
   "metadata": {},
   "outputs": [
    {
     "name": "stdout",
     "output_type": "stream",
     "text": [
      "╒═════════╤══════════╕\n",
      "│ Asset   │ Weight   │\n",
      "╞═════════╪══════════╡\n",
      "│ A       │ 104.31%  │\n",
      "├─────────┼──────────┤\n",
      "│ B       │ -4.13%   │\n",
      "├─────────┼──────────┤\n",
      "│ C       │ 0.60%    │\n",
      "├─────────┼──────────┤\n",
      "│ D       │ -0.78%   │\n",
      "╘═════════╧══════════╛\n"
     ]
    }
   ],
   "source": [
    "# Optimal weights, w* = (Σ^-1).(λ.1^)\n",
    "optimal_weights = inverse_covariance_matrix.dot(lagrangian_lambda * ones_vector)\n",
    "\n",
    "# Format the weights and print\n",
    "formatted_weights = [f'{weight:.2%}' for weight in optimal_weights]\n",
    "portfolio = dict(zip(assets, formatted_weights))\n",
    "\n",
    "print(tabulate.tabulate(portfolio.items(), headers=['Asset', 'Weight'], tablefmt='fancy_grid')) "
   ]
  },
  {
   "cell_type": "markdown",
   "metadata": {},
   "source": [
    "### Question 2:"
   ]
  },
  {
   "cell_type": "markdown",
   "metadata": {},
   "source": [
    "Consider the optimization for a target return $m$. There is no risk-free asset.\n",
    "\n",
    "$$\n",
    "\\begin{aligned}\n",
    "& \\underset{\\boldsymbol{w}}{\\operatorname{argmin}} \\frac{1}{2} \\boldsymbol{w}^{\\prime} \\boldsymbol{\\Sigma} \\boldsymbol{w} \\\\\n",
    "& \\boldsymbol{w}^{\\prime} \\mathbf{1}=1 \\\\\n",
    "& \\boldsymbol{w}^{\\prime} \\boldsymbol{\\mu}=m\n",
    "\\end{aligned}\n",
    "$$\n",
    "\n",
    "**2.1)** Compute $\\mathbf{w}^{*}$ and portfolio risk $\\sigma_{\\Pi}=\\sqrt{\\boldsymbol{w}^{\\prime} \\boldsymbol{\\Sigma} \\boldsymbol{w}}$ for $m=7 \\%$ for three levels of correlation.\n",
    "\n",
    "**2.2)** Correlation matrix $\\times 1, \\times 1.3, \\times 1.8$, subject to individual correlation upper limit of 0.99 , if the scaling results in correlation value above 1 . Provide all results in a single table.\n",
    "\n",
    "The vector of returns, $\\boldsymbol{\\mu}$ is defined as:\n",
    "\n",
    "$$\n",
    "\\boldsymbol{\\mu}=\\left(\\begin{array}{c}\n",
    "{\\mu}_{A} \\\\\n",
    "{\\mu}_{B} \\\\\n",
    "{\\mu}_{C} \\\\\n",
    "{\\mu}_{D}\n",
    "\\end{array}\\right) = \\left(\\begin{array}{c}\n",
    "                    0.05 \\\\\n",
    "                    0.07 \\\\\n",
    "                    0.15 \\\\\n",
    "                    0.22\n",
    "                    \\end{array}\\right)\n",
    "$$"
   ]
  },
  {
   "cell_type": "code",
   "execution_count": 47,
   "metadata": {},
   "outputs": [],
   "source": [
    "# Define the min return, m = 7% and vector of mean returns of the assets, μ\n",
    "min_return = 0.07\n",
    "mean_returns_vector = np.array([0.05, 0.07, 0.15, 0.22])"
   ]
  },
  {
   "cell_type": "markdown",
   "metadata": {},
   "source": [
    "**2.1)** We'll define $\\mathbf{w}^{*}$ by solving a new Lagrangian function, $L(x, \\lambda, \\gamma)$ with two Lagrangian multipliers $\\lambda$ and $\\gamma$ which represent the budget constraint, $\\boldsymbol{w}^{\\prime}\\boldsymbol{1} = 1 == \\boldsymbol{w}\\boldsymbol{1}^{\\prime} = 1$ and the return constraint, $\\boldsymbol{w}^{\\prime}\\boldsymbol{\\mu} = m == \\boldsymbol{w}\\boldsymbol{\\mu}^{\\prime} = m$:\n",
    "\n",
    "Then we can define the Lagrangian function $L(x, \\lambda, \\gamma)$ as:\n",
    "\n",
    "$L(x, \\lambda, \\gamma) = \\frac{1}{2}\\boldsymbol{w}^{\\prime}{\\Sigma}\\boldsymbol{w} + \\lambda(m - \\boldsymbol{\\mu}^{\\prime}\\boldsymbol{w}) + \\gamma (1-\\boldsymbol{1}^{\\prime}\\boldsymbol{w})$\n",
    "\n",
    "&nbsp;\n",
    "\n",
    "Solving the first order equation of the Lagrangian function we get three partial differential equations:\n",
    "\n",
    "$\\frac{\\partial L}{\\partial w}(w, \\lambda, \\gamma) = \\boldsymbol{w}^{\\prime}{\\Sigma} - \\lambda\\boldsymbol{\\mu}^{\\prime} - \\gamma\\boldsymbol{1}^{\\prime} = 0$\n",
    "\n",
    "$\\frac{\\partial L}{\\partial \\lambda}(w, \\lambda, \\gamma) = m - \\boldsymbol{\\mu}^{\\prime}\\boldsymbol{w} = 0$\n",
    "\n",
    "$\\frac{\\partial L}{\\partial \\gamma}(w, \\lambda, \\gamma) = 1 - \\boldsymbol{1}^{\\prime}\\boldsymbol{w} = 0$\n",
    "\n",
    "&nbsp;\n",
    "\n",
    "Then we can define the optimal portfolio allocation $\\boldsymbol{w}^{\\ast}$ by multiplying $\\boldsymbol{w}^{\\prime}{\\Sigma} - \\lambda\\boldsymbol{\\mu}^{\\prime} - \\gamma\\boldsymbol{1}^{\\prime} = 0$ by the inverse matrix ${\\Sigma}^{-1}$:\n",
    "\n",
    "$\\boldsymbol{w}^{\\prime}{\\Sigma} = \\lambda\\boldsymbol{\\mu}^{\\prime} + \\gamma\\boldsymbol{1}^{\\prime}$\n",
    "\n",
    "$\\therefore \\boldsymbol{w}^{\\ast} = {\\Sigma}^{-1}(\\lambda\\boldsymbol{\\mu} + \\gamma\\boldsymbol{1})$ which we can call the candidate function.\n",
    "\n",
    "&nbsp;\n",
    "\n",
    "Substituting the candidate function, $\\boldsymbol{w}^{\\ast}$ into our two constraint equations we will try to solve for $\\lambda$ and $\\gamma$.\n",
    "\n",
    "First we will substitute $\\boldsymbol{w}^{\\ast}$ into the budget constraint equation $\\boldsymbol{w}\\boldsymbol{1}^{\\prime} = 1$:\n",
    "\n",
    "$$\\boldsymbol{w}^{\\ast}\\boldsymbol{1}^{\\prime} = 1$$\n",
    "\n",
    "$$\\Rightarrow \\boldsymbol{1}^{\\prime}{\\Sigma}^{-1}(\\lambda\\boldsymbol{\\mu} + \\gamma\\boldsymbol{1}) = 1$$\n",
    "\n",
    "$$[1] \\;\\;\\;\\; \\Rightarrow \\lambda\\boldsymbol{1}^{\\prime}{\\Sigma}^{-1}\\boldsymbol{\\mu} + \\gamma\\boldsymbol{1}^{\\prime}{\\Sigma}^{-1}\\boldsymbol{1} = 1$$\n",
    "\n",
    "Then we will substitute $\\boldsymbol{w}^{\\ast}$ into the return constraint equation $\\boldsymbol{w}\\boldsymbol{\\mu}^{\\prime} = m$:\n",
    "\n",
    "$$\\boldsymbol{w}^{\\ast}\\boldsymbol{\\mu}^{\\prime} = m$$ \n",
    "\n",
    "$$\\Rightarrow \\boldsymbol{\\mu}^{\\prime}{\\Sigma}^{-1}(\\lambda\\boldsymbol{\\mu} + \\gamma\\boldsymbol{1}) = m$$\n",
    "\n",
    "$$[2] \\;\\;\\;\\; \\Rightarrow \\lambda\\boldsymbol{\\mu}^{\\prime}{\\Sigma}^{-1}\\boldsymbol{\\mu} + \\gamma\\boldsymbol{\\mu}^{\\prime}{\\Sigma}^{-1}\\boldsymbol{1} = m$$\n",
    "\n",
    "&nbsp;\n",
    "\n",
    "For ease of computation we will define the following scalar variables:\n",
    "\n",
    "$$A = \\boldsymbol{1}{\\Sigma}^{-1}\\boldsymbol{1}$$ \n",
    "\n",
    "$$B = \\boldsymbol{\\mu}^{\\prime}{\\Sigma}^{-1}\\boldsymbol{1} \\Rightarrow \\boldsymbol{1}{\\Sigma}^{-1}\\boldsymbol{\\mu}$$\n",
    "\n",
    "$$C = \\boldsymbol{\\mu}^{\\prime}{\\Sigma}^{-1}\\boldsymbol{\\mu}$$\n",
    "\n",
    "&nbsp;\n",
    "\n",
    "We can then re-write equations $[1]$ and $[2]$ as:\n",
    "\n",
    "$$[1] \\;\\;\\;\\; B\\lambda + A\\gamma = 1$$\n",
    "\n",
    "$$[2] \\;\\;\\;\\; C\\lambda + B\\gamma = m$$\n",
    "\n",
    "Rearranging $[1]$ and $[2]$ we define our Lagrangian multipliers, $\\lambda$ and $\\gamma$, in terms of the constants $A$, $B$, and $C$:\n",
    "\n",
    "$$\\lambda = \\frac{Am - B}{AC -{B}^{2}}$$\n",
    "\n",
    "$$\\gamma = \\frac{C - Bm}{AC -{B}^{2}}$$\n",
    "\n",
    "$$\\text{Optimial Portfolio Allocation } \\boldsymbol{w}^{\\ast} = {\\Sigma}^{-1}(\\lambda\\boldsymbol{\\mu} + \\gamma\\boldsymbol{1})$$"
   ]
  },
  {
   "cell_type": "markdown",
   "metadata": {},
   "source": [
    "**2.2)** Define the scaled correlation matrices as $Corr_{1}$, $Corr_{1.3}$ and $Corr_{1.8}$ respectively. \n",
    "$$\n",
    "\\text Corr_{1}=\\left(\\begin{array}{cccc}\n",
    "1 & 0.4 & 0.3 & 0.3 \\\\\n",
    "0.4 & 1 & 0.27 & 0.42 \\\\\n",
    "0.3 & 0.27 & 1 & 0.5 \\\\\n",
    "0.3 & 0.42 & 0.5 & 1\n",
    "\\end{array}\\right)\n",
    "$$\n",
    "\n",
    "$$\n",
    "\\text Corr_{1.3}=\\left(\\begin{array}{cccc}\n",
    "1 & 0.52 & 0.39 & 0.39 \\\\\n",
    "0.52 & 1 & 0.35 & 0.55 \\\\\n",
    "0.39 & 0.35 & 1 & 0.65 \\\\\n",
    "0.39 & 0.55 & 0.65 & 1\n",
    "\\end{array}\\right)\n",
    "$$\n",
    "\n",
    "$$\n",
    "\\text Corr_{1.8}=\\left(\\begin{array}{cccc}\n",
    "1 & 0.72 & 0.54 & 0.54 \\\\\n",
    "0.72 & 1 & 0.49 & 0.76 \\\\\n",
    "0.54 & 0.49 & 1 & 0.9 \\\\\n",
    "0.54 & 0.76 & 0.9 & 1\n",
    "\\end{array}\\right)\n",
    "$$\n",
    "\n",
    "Consequently, the covariance matrices $\\Sigma_{1}$, $\\Sigma_{1.3}$ and $\\Sigma_{1.8}$ are given by:\n",
    "\n",
    "$$\\Sigma_{1} = \\boldsymbol{S}Corr_{1}\\boldsymbol{S}$$\n",
    "\n",
    "$$\\Sigma_{1.3} = \\boldsymbol{S}Corr_{1.3}\\boldsymbol{S}$$\n",
    "\n",
    "$$\\Sigma_{1.8} = \\boldsymbol{S}Corr_{1.8}\\boldsymbol{S}$$\n",
    "\n",
    "where $\\boldsymbol{S}$ is the diagonal matrix of standard deviations of the assets.\n",
    "\n",
    "Now we can compute the optimal allocation, $\\boldsymbol{w}^{\\ast}$ and portfolio risk, ${\\sigma}_{\\Pi}$ for $m = 7\\%$ for each of the three correlation matrices."
   ]
  },
  {
   "cell_type": "code",
   "execution_count": 48,
   "metadata": {},
   "outputs": [],
   "source": [
    "# Define a function that uses Lagrange multipliers to find the minimum variance portfolio for a given return\n",
    "def calculate_Optimal_Lagrangian_Allocations(min_return: float, covariance_matrix: np.ndarray, returns_vector: np.ndarray):\n",
    "    ''' Calculate the Optimal Portfolio allocations using Lagrangian Multipliers closed form solution\n",
    "    Args:\n",
    "        min_return (float) = The minimum or 'target' return required for the portfolio, as a decimal (e.g. 0.1 = 10%)\n",
    "        covariance_matrix (np.array) = The covariance matrix of the portfolio\n",
    "        returns_vector (np.array) = The mean returns vector of the portfolio\n",
    "    Returns:\n",
    "        optimal_weights (np.array) = The optimal weights for the portfolio\n",
    "    '''\n",
    "    # Initiliase the 1s vector\n",
    "    ones_vector = np.ones(returns_vector.shape[0])\n",
    "\n",
    "    # Calculate the inverse of the covariance matrix (Σ^-1)\n",
    "    inverse_covariance = np.linalg.inv(covariance_matrix)\n",
    "\n",
    "    # Get scalar values to solve the quadratic equation for the two constaint equations -> 1. Sum of weights = 1 and 2. Minimum return\n",
    "    # A = 1^.(Σ^-1).1^\n",
    "    A = ones_vector.dot(inverse_covariance.dot(ones_vector))\n",
    "\n",
    "    # B = 1^.(Σ^-1).μ\n",
    "    B = ones_vector.dot(inverse_covariance.dot(returns_vector))\n",
    "\n",
    "    # C = μ'.(Σ^-1).μ\n",
    "    C = returns_vector.T.dot(inverse_covariance.dot(returns_vector))\n",
    "\n",
    "    # λ = (A*min_return - B) / (A*C - B^2)\n",
    "    lagrangian_lambda = (A*min_return - B) / (A*C - B**2)\n",
    "\n",
    "    # γ = (C - B*min_return) / (A*C - B^2)\n",
    "    lagrangian_gamma = (C - B*min_return) / (A*C - B**2)\n",
    "\n",
    "    # Calculate the optimal weights, w* for the portfolio\n",
    "    # w* = (Σ^-1).(λ.μ + γ.1^)\n",
    "    optimal_weights = inverse_covariance.dot(lagrangian_lambda * returns_vector + lagrangian_gamma * ones_vector)\n",
    "\n",
    "    return optimal_weights"
   ]
  },
  {
   "cell_type": "code",
   "execution_count": 49,
   "metadata": {},
   "outputs": [
    {
     "name": "stdout",
     "output_type": "stream",
     "text": [
      "Correlation Matrix x1: \n",
      "[[1.   0.4  0.3  0.3 ]\n",
      " [0.4  1.   0.27 0.42]\n",
      " [0.3  0.27 1.   0.5 ]\n",
      " [0.3  0.42 0.5  1.  ]]\n",
      "\n",
      "Correlation Matrix x1.3: \n",
      "[[1.    0.52  0.39  0.39 ]\n",
      " [0.52  1.    0.351 0.546]\n",
      " [0.39  0.351 1.    0.65 ]\n",
      " [0.39  0.546 0.65  1.   ]]\n",
      "\n",
      "Correlation Matrix x1.8: \n",
      "[[1.    0.72  0.54  0.54 ]\n",
      " [0.72  1.    0.486 0.756]\n",
      " [0.54  0.486 1.    0.9  ]\n",
      " [0.54  0.756 0.9   1.   ]]\n"
     ]
    }
   ],
   "source": [
    "# Create the scaled correlation matrices\n",
    "corr_1 = correlation_matrix\n",
    "corr_1_3 = correlation_matrix * 1.3\n",
    "corr_1_8 = correlation_matrix * 1.8\n",
    "\n",
    "# If any correlation is greater than 1, set it to 0.99\n",
    "corr_1_3[corr_1_3 > 1.0] = 0.99\n",
    "corr_1_8[corr_1_8 > 1.0] = 0.99\n",
    "\n",
    "# Set the leading diagonals back to 1.0\n",
    "np.fill_diagonal(corr_1_3, 1.0)\n",
    "np.fill_diagonal(corr_1_8, 1.0)\n",
    "\n",
    "print(f'Correlation Matrix x1: \\n{corr_1}\\n')\n",
    "print(f'Correlation Matrix x1.3: \\n{corr_1_3}\\n')\n",
    "print(f'Correlation Matrix x1.8: \\n{corr_1_8}')"
   ]
  },
  {
   "cell_type": "code",
   "execution_count": 50,
   "metadata": {},
   "outputs": [
    {
     "name": "stdout",
     "output_type": "stream",
     "text": [
      "Covariance Matrix 1: \n",
      "[[0.0049   0.00784  0.00525  0.00651 ]\n",
      " [0.00784  0.0784   0.0189   0.036456]\n",
      " [0.00525  0.0189   0.0625   0.03875 ]\n",
      " [0.00651  0.036456 0.03875  0.0961  ]]\n",
      "\n",
      "Covariance Matrix 1_3: \n",
      "[[0.0049    0.010192  0.006825  0.008463 ]\n",
      " [0.010192  0.0784    0.02457   0.0473928]\n",
      " [0.006825  0.02457   0.0625    0.050375 ]\n",
      " [0.008463  0.0473928 0.050375  0.0961   ]]\n",
      "\n",
      "Covariance Matrix 1_8: \n",
      "[[0.0049    0.014112  0.00945   0.011718 ]\n",
      " [0.014112  0.0784    0.03402   0.0656208]\n",
      " [0.00945   0.03402   0.0625    0.06975  ]\n",
      " [0.011718  0.0656208 0.06975   0.0961   ]]\n",
      "\n"
     ]
    }
   ],
   "source": [
    "# Calculate the covariance matrices for each of the correlation matrices\n",
    "covariance_matrix_1 = covariance_matrix\n",
    "covariance_matrix_1_3 = calculate_Covariance_Matrix(std_deviation_vector, corr_1_3)\n",
    "covariance_matrix_1_8 = calculate_Covariance_Matrix(std_deviation_vector, corr_1_8)\n",
    "\n",
    "# Store the matrices in a list\n",
    "covariance_matrices = [covariance_matrix_1, covariance_matrix_1_3, covariance_matrix_1_8]\n",
    "\n",
    "print(f'Covariance Matrix 1: \\n{covariance_matrix_1}\\n')\n",
    "print(f'Covariance Matrix 1_3: \\n{covariance_matrix_1_3}\\n')\n",
    "print(f'Covariance Matrix 1_8: \\n{covariance_matrix_1_8}\\n')"
   ]
  },
  {
   "cell_type": "markdown",
   "metadata": {},
   "source": [
    "Find the portfolio risk as $\\sigma_{\\Pi}=\\sqrt{\\boldsymbol{w}^{\\prime} \\boldsymbol{\\Sigma} \\boldsymbol{w}}$ defining this calculation as a function."
   ]
  },
  {
   "cell_type": "code",
   "execution_count": 51,
   "metadata": {},
   "outputs": [],
   "source": [
    "def calculate_Portfolio_Risk(weights: np.ndarray, covariance_matrix: np.ndarray):\n",
    "    '''Calculate the annualised portfolio risk (standard deviation) given a set of weights\n",
    "    Args:\n",
    "        weights (np.ndarray): An array of assets weights\n",
    "        covariance_matrix (np.ndarray): The covariance matrix of the assets\n",
    "    Returns:\n",
    "        annualised_std (float): The annualised portfolio standard deviation'''\n",
    "    annualised_std = np.sqrt(np.dot(weights.T, np.dot(covariance_matrix, weights))) * np.sqrt(252)\n",
    "\n",
    "    return annualised_std"
   ]
  },
  {
   "cell_type": "code",
   "execution_count": 52,
   "metadata": {},
   "outputs": [
    {
     "data": {
      "text/html": [
       "<div>\n",
       "<style scoped>\n",
       "    .dataframe tbody tr th:only-of-type {\n",
       "        vertical-align: middle;\n",
       "    }\n",
       "\n",
       "    .dataframe tbody tr th {\n",
       "        vertical-align: top;\n",
       "    }\n",
       "\n",
       "    .dataframe thead th {\n",
       "        text-align: right;\n",
       "    }\n",
       "</style>\n",
       "<table border=\"1\" class=\"dataframe\">\n",
       "  <thead>\n",
       "    <tr style=\"text-align: right;\">\n",
       "      <th></th>\n",
       "      <th>A Weight %</th>\n",
       "      <th>B Weight %</th>\n",
       "      <th>C Weight %</th>\n",
       "      <th>D Weight %</th>\n",
       "      <th>Portfolio Risk</th>\n",
       "      <th>Correlation Multiplier</th>\n",
       "    </tr>\n",
       "  </thead>\n",
       "  <tbody>\n",
       "    <tr>\n",
       "      <th>0</th>\n",
       "      <td>92.41</td>\n",
       "      <td>-7.29</td>\n",
       "      <td>5.47</td>\n",
       "      <td>9.40</td>\n",
       "      <td>1.229</td>\n",
       "      <td>1.0</td>\n",
       "    </tr>\n",
       "    <tr>\n",
       "      <th>1</th>\n",
       "      <td>99.65</td>\n",
       "      <td>-13.51</td>\n",
       "      <td>1.24</td>\n",
       "      <td>12.62</td>\n",
       "      <td>1.214</td>\n",
       "      <td>1.3</td>\n",
       "    </tr>\n",
       "    <tr>\n",
       "      <th>2</th>\n",
       "      <td>145.09</td>\n",
       "      <td>-40.77</td>\n",
       "      <td>-50.71</td>\n",
       "      <td>46.39</td>\n",
       "      <td>0.655</td>\n",
       "      <td>1.8</td>\n",
       "    </tr>\n",
       "  </tbody>\n",
       "</table>\n",
       "</div>"
      ],
      "text/plain": [
       "   A Weight %  B Weight %  C Weight %  D Weight %  Portfolio Risk  \\\n",
       "0       92.41       -7.29        5.47        9.40           1.229   \n",
       "1       99.65      -13.51        1.24       12.62           1.214   \n",
       "2      145.09      -40.77      -50.71       46.39           0.655   \n",
       "\n",
       "   Correlation Multiplier  \n",
       "0                     1.0  \n",
       "1                     1.3  \n",
       "2                     1.8  "
      ]
     },
     "execution_count": 52,
     "metadata": {},
     "output_type": "execute_result"
    }
   ],
   "source": [
    "# Find optimal portfolio allocations for each correlation matrix using the Lagrangian method using the minimum return of 0.07 and the mean returns vector\n",
    "optimal_weights = [calculate_Optimal_Lagrangian_Allocations(min_return, covariance_matrix, mean_returns_vector) for covariance_matrix in covariance_matrices]\n",
    "\n",
    "# Find the corresponding portfolio risk for each set of optimal weights\n",
    "portfolio_risk = [calculate_Portfolio_Risk(weights, covariance_matrix) for weights, covariance_matrix in zip(optimal_weights, covariance_matrices)]\n",
    "\n",
    "# Formatting the optimal weights into percentages and column names\n",
    "formatted_weights = [np.around(weights * 100, 2) for weights in optimal_weights]\n",
    "formatted_assets = [asset + ' Weight %' for asset in assets]\n",
    "\n",
    "# Create a dataframe representing the portfolios with the optimal weights, portfolio risks and correlation multipliers for each correlation matrix\n",
    "portfolios_df = pd.DataFrame(formatted_weights, columns=formatted_assets)\n",
    "portfolios_df['Portfolio Risk'] = np.around(portfolio_risk, 3)\n",
    "portfolios_df['Correlation Multiplier'] = [1.0, 1.3, 1.8]\n",
    "portfolios_df.head()"
   ]
  },
  {
   "cell_type": "markdown",
   "metadata": {},
   "source": [
    "## Understanding Risk\n",
    "\n",
    "#### Question 3:\n",
    "\"Evaluating the P&L more frequently make it appear more risky than it actually is.\" Make the following simple computations to demonstrate this statement.\n",
    "\n",
    "**3.1)** Write down the formula for Sharpe Ratio and identify main parameter scaled with time.\n",
    "\n",
    "**3.2)** Compute Daily, Monthly, and Quarterly Sharpe Ratio, for Annualised SR of 0.53. No other inputs.\n",
    "\n",
    "**3.3)** Convert each Sharpe Ratio into Loss Probability (daily, monthly, quarterly, annual), using\n",
    "\n",
    "$$\n",
    "\\operatorname{Pr}(\\mathrm{P} \\& \\mathrm{~L}<0)=\\operatorname{Pr}(x<-\\mathrm{SR}) .\n",
    "$$\n",
    "\n",
    "where $x$ is a standard Normal random variable."
   ]
  },
  {
   "cell_type": "markdown",
   "metadata": {},
   "source": [
    "**3.1)** The Sharpe Ratio, ${S}_t$ is the ratio of the risk-adjusted average excess returns of an asset or portfolio to the standard deviation of those returns. It is therefore a measure of the returns per unit of risk of an asset or portfolio. The Sharpe Ratio is defined as:\n",
    "\n",
    "$${S}_{t} = \\frac{{\\mu}_{t} - {R}_{f}}{{\\sigma}_{t}}$$\n",
    "\n",
    "where ${\\mu}_{t}$ is the average excess return of the asset or portfolio, ${R}_{f}$ is the risk-free rate, and ${\\sigma}_{t}$ is the standard deviation of the excess returns of the asset or portfolio.\n",
    "\n",
    "The main parameter scaled with time is the standard deviation of the excess returns or the volatility of the excess returns, ${\\sigma}_{t}$"
   ]
  },
  {
   "cell_type": "markdown",
   "metadata": {},
   "source": [
    "**3.2)** Annualised SR = 0.53, we will write this as ${S}_{annual} = 0.53$ and assume there are 252 trading days in a year.\n",
    "\n",
    "Daily Sharpe Ratio, ${S}_{daily} = \\frac{{S}_{annual}}{\\sqrt{252}}$\n",
    "\n",
    "Monthly Sharpe Ratio, ${S}_{monthly} = \\frac{{S}_{annual}}{\\sqrt{12}}$\n",
    "\n",
    "Quarterly Sharpe Ratio, ${S}_{quarterly} = \\frac{{S}_{annual}}{\\sqrt{4}}$"
   ]
  },
  {
   "cell_type": "code",
   "execution_count": 53,
   "metadata": {},
   "outputs": [
    {
     "data": {
      "text/html": [
       "<div>\n",
       "<style scoped>\n",
       "    .dataframe tbody tr th:only-of-type {\n",
       "        vertical-align: middle;\n",
       "    }\n",
       "\n",
       "    .dataframe tbody tr th {\n",
       "        vertical-align: top;\n",
       "    }\n",
       "\n",
       "    .dataframe thead th {\n",
       "        text-align: right;\n",
       "    }\n",
       "</style>\n",
       "<table border=\"1\" class=\"dataframe\">\n",
       "  <thead>\n",
       "    <tr style=\"text-align: right;\">\n",
       "      <th></th>\n",
       "      <th>Sharpe Ratio</th>\n",
       "    </tr>\n",
       "  </thead>\n",
       "  <tbody>\n",
       "    <tr>\n",
       "      <th>Annual</th>\n",
       "      <td>0.520000</td>\n",
       "    </tr>\n",
       "    <tr>\n",
       "      <th>Monthly</th>\n",
       "      <td>0.150111</td>\n",
       "    </tr>\n",
       "    <tr>\n",
       "      <th>Quarterly</th>\n",
       "      <td>0.260000</td>\n",
       "    </tr>\n",
       "    <tr>\n",
       "      <th>Daily</th>\n",
       "      <td>0.032757</td>\n",
       "    </tr>\n",
       "  </tbody>\n",
       "</table>\n",
       "</div>"
      ],
      "text/plain": [
       "           Sharpe Ratio\n",
       "Annual         0.520000\n",
       "Monthly        0.150111\n",
       "Quarterly      0.260000\n",
       "Daily          0.032757"
      ]
     },
     "execution_count": 53,
     "metadata": {},
     "output_type": "execute_result"
    }
   ],
   "source": [
    "# Define the trading days in year and the annual sharpe ratio\n",
    "TRADING_DAYS = 252\n",
    "sharpe_ratio_annual = 0.52\n",
    "\n",
    "# Calculate the daily sharpe ratio\n",
    "sharpe_ratio_daily = sharpe_ratio_annual / np.sqrt(TRADING_DAYS)\n",
    "\n",
    "# Calculate the monthly sharpe ratio\n",
    "sharpe_ratio_monthly = sharpe_ratio_annual / np.sqrt(12)\n",
    "\n",
    "# Calculate the quarterly sharpe ratio\n",
    "sharpe_ratio_quarterly = sharpe_ratio_annual / np.sqrt(4)\n",
    "\n",
    "# Store the results in a dataframe\n",
    "sharpe_ratios = np.array([sharpe_ratio_annual, sharpe_ratio_monthly, sharpe_ratio_quarterly, sharpe_ratio_daily])\n",
    "sharpe_df = pd.DataFrame(sharpe_ratios, index=['Annual', 'Monthly', 'Quarterly', 'Daily'], columns=['Sharpe Ratio'])\n",
    "sharpe_df.head()"
   ]
  },
  {
   "cell_type": "markdown",
   "metadata": {},
   "source": [
    "**3.3)** Convert each Sharpe Ratio into Loss Probability (daily, monthly, quarterly, annual), using\n",
    "\n",
    "$$\n",
    "\\operatorname{Pr}(\\mathrm{P} \\& \\mathrm{~L}<0)=\\operatorname{Pr}(x<-\\mathrm{SR}) .\n",
    "$$\n",
    "\n",
    "where $x$ is a standard Normal random variable.\n",
    "\n",
    "Using the above derived Loss Probability, we know that the probability that a standard Normal random variable is less than $-\\mathrm{SR}$ can be computed using $\\Phi(-\\mathrm{SR})$"
   ]
  },
  {
   "cell_type": "code",
   "execution_count": 54,
   "metadata": {},
   "outputs": [
    {
     "data": {
      "text/html": [
       "<div>\n",
       "<style scoped>\n",
       "    .dataframe tbody tr th:only-of-type {\n",
       "        vertical-align: middle;\n",
       "    }\n",
       "\n",
       "    .dataframe tbody tr th {\n",
       "        vertical-align: top;\n",
       "    }\n",
       "\n",
       "    .dataframe thead th {\n",
       "        text-align: right;\n",
       "    }\n",
       "</style>\n",
       "<table border=\"1\" class=\"dataframe\">\n",
       "  <thead>\n",
       "    <tr style=\"text-align: right;\">\n",
       "      <th></th>\n",
       "      <th>Sharpe Ratio</th>\n",
       "      <th>Loss Probability %</th>\n",
       "    </tr>\n",
       "  </thead>\n",
       "  <tbody>\n",
       "    <tr>\n",
       "      <th>Annual</th>\n",
       "      <td>0.520</td>\n",
       "      <td>69.85</td>\n",
       "    </tr>\n",
       "    <tr>\n",
       "      <th>Monthly</th>\n",
       "      <td>0.150</td>\n",
       "      <td>55.97</td>\n",
       "    </tr>\n",
       "    <tr>\n",
       "      <th>Quarterly</th>\n",
       "      <td>0.260</td>\n",
       "      <td>60.26</td>\n",
       "    </tr>\n",
       "    <tr>\n",
       "      <th>Daily</th>\n",
       "      <td>0.033</td>\n",
       "      <td>51.31</td>\n",
       "    </tr>\n",
       "  </tbody>\n",
       "</table>\n",
       "</div>"
      ],
      "text/plain": [
       "           Sharpe Ratio  Loss Probability %\n",
       "Annual            0.520               69.85\n",
       "Monthly           0.150               55.97\n",
       "Quarterly         0.260               60.26\n",
       "Daily             0.033               51.31"
      ]
     },
     "execution_count": 54,
     "metadata": {},
     "output_type": "execute_result"
    }
   ],
   "source": [
    "# Convert each Sharpe Ratio to a Loss Probability\n",
    "sharpe_df['Loss Probability %'] = sharpe_df['Sharpe Ratio'].apply(lambda x: round(ss.norm.cdf(x) * 100, 2))\n",
    "\n",
    "# Round the Sharpe Ratios to 3 decimal places\n",
    "sharpe_df['Sharpe Ratio'] = sharpe_df['Sharpe Ratio'].apply(lambda x: round(x, 3))\n",
    "sharpe_df.head()"
   ]
  },
  {
   "cell_type": "markdown",
   "metadata": {},
   "source": [
    "#### Question 4:\n",
    "Instead of computing the optimal allocations analytically, let's conduct an experiment. Generate above 700 random allocation sets: $4 \\times 1$ vectors. Those will not be optimal and can be negative.\n",
    "\n",
    "**4.1)** Standardise each set to satisfy $w^{\\prime} \\mathbf{1}=1$. In fact, generate 3 allocations and compute the 4 th.\n",
    "\n",
    "**4.2)** For each set, compute $\\mu_{\\Pi}=\\boldsymbol{w}^{\\prime} \\boldsymbol{\\mu}$ and $\\sigma_{\\Pi}=\\sqrt{\\boldsymbol{w}^{\\prime} \\boldsymbol{\\Sigma} \\boldsymbol{w}}$.\n",
    "\n",
    "**4.3)** Plot the cloud of points, $\\mu_{\\Pi}$ vertically on $\\sigma_{\\Pi}$ horizontally. Explain this plot."
   ]
  },
  {
   "cell_type": "markdown",
   "metadata": {},
   "source": [
    "**4.1)** Generate 10,000 random portfolios (allocation sets) comprised of the 4 assets, A, B, C and D. Randomly generate 3 allocations (A, B, C), with the 4th allocation (D) computed to satisfy the budget constaint $w^{\\prime} \\mathbf{1}=1$."
   ]
  },
  {
   "cell_type": "code",
   "execution_count": 65,
   "metadata": {},
   "outputs": [
    {
     "name": "stdout",
     "output_type": "stream",
     "text": [
      "Randomly generated weights: \n",
      " [[ 0.27392337 -0.46042657 -0.91805295  2.10455615]\n",
      " [ 0.62654048  0.82551115  0.21327155 -0.66532318]\n",
      " [ 0.08724998  0.87014485  0.63170711 -0.58910194]\n",
      " ...\n",
      " [ 0.84326753 -0.27922569 -0.27543331  0.71139146]\n",
      " [-0.18939823  0.31098477 -0.39738803  1.27580148]\n",
      " [ 0.00801324 -0.53890075  0.13118165  1.39970586]]\n"
     ]
    }
   ],
   "source": [
    "# Set the seed for reproducibility\n",
    "np.random.seed(0)\n",
    "\n",
    "# Set the seed for reproducibility\n",
    "rng = np.random.default_rng(0)\n",
    "\n",
    "# Generate 10,000 random portfolios of shape (10000, 4) with random weights between -1 and 1\n",
    "NUMBER_OF_PORTFOLIOS = 10000\n",
    "assets = ['A', 'B', 'C', 'D']\n",
    "portfolio_weights = (1 - (-1)) * rng.random((NUMBER_OF_PORTFOLIOS, len(assets))) - 1\n",
    "\n",
    "# Re-compute the weights of the 4th asset 'D' to satisfy budget constraint\n",
    "portfolio_weights[:, len(assets) - 1] = 1 - np.sum(portfolio_weights[:, :len(assets) - 1], axis=1)\n",
    "\n",
    "print(f'Randomly generated weights: \\n {portfolio_weights}')"
   ]
  },
  {
   "cell_type": "markdown",
   "metadata": {},
   "source": [
    "**4.2)** Compute the annualised returns, $\\mu_{\\Pi}=\\boldsymbol{w}^{\\prime} \\boldsymbol{\\mu} \\times N$ and annualised portfolio volatility, $\\sigma_{\\Pi}=\\sqrt{\\boldsymbol{w}^{\\prime} \\boldsymbol{\\Sigma} \\boldsymbol{w}} \\times \\sqrt{N}$ where $N$ = Annual Trading Days, using the random weights $\\boldsymbol{w}$ generated in **4.1)**."
   ]
  },
  {
   "cell_type": "code",
   "execution_count": 62,
   "metadata": {},
   "outputs": [
    {
     "name": "stdout",
     "output_type": "stream",
     "text": [
      "Mean Returns Vector:\n",
      "[0.05 0.07 0.15 0.22] \n",
      "\n",
      "Covariance Matrix:\n",
      "[[0.0049   0.00784  0.00525  0.00651 ]\n",
      " [0.00784  0.0784   0.0189   0.036456]\n",
      " [0.00525  0.0189   0.0625   0.03875 ]\n",
      " [0.00651  0.036456 0.03875  0.0961  ]]\n"
     ]
    }
   ],
   "source": [
    "# Our inputs for the mean returns vector and covariance matrix are the same as before:\n",
    "print(f'Mean Returns Vector:\\n{mean_returns_vector} \\n')\n",
    "print(f'Covariance Matrix:\\n{covariance_matrix}')"
   ]
  },
  {
   "cell_type": "code",
   "execution_count": 63,
   "metadata": {},
   "outputs": [
    {
     "data": {
      "text/html": [
       "<div>\n",
       "<style scoped>\n",
       "    .dataframe tbody tr th:only-of-type {\n",
       "        vertical-align: middle;\n",
       "    }\n",
       "\n",
       "    .dataframe tbody tr th {\n",
       "        vertical-align: top;\n",
       "    }\n",
       "\n",
       "    .dataframe thead th {\n",
       "        text-align: right;\n",
       "    }\n",
       "</style>\n",
       "<table border=\"1\" class=\"dataframe\">\n",
       "  <thead>\n",
       "    <tr style=\"text-align: right;\">\n",
       "      <th></th>\n",
       "      <th>Portfolio Return</th>\n",
       "      <th>Portfolio Volatility</th>\n",
       "      <th>A Weight</th>\n",
       "      <th>B Weight</th>\n",
       "      <th>C Weight</th>\n",
       "      <th>D Weight</th>\n",
       "    </tr>\n",
       "  </thead>\n",
       "  <tbody>\n",
       "    <tr>\n",
       "      <th>0</th>\n",
       "      <td>0.306761</td>\n",
       "      <td>0.542018</td>\n",
       "      <td>0.273923</td>\n",
       "      <td>-0.460427</td>\n",
       "      <td>-0.918053</td>\n",
       "      <td>2.104556</td>\n",
       "    </tr>\n",
       "    <tr>\n",
       "      <th>1</th>\n",
       "      <td>-0.025268</td>\n",
       "      <td>0.245827</td>\n",
       "      <td>0.626540</td>\n",
       "      <td>0.825511</td>\n",
       "      <td>0.213272</td>\n",
       "      <td>-0.665323</td>\n",
       "    </tr>\n",
       "    <tr>\n",
       "      <th>2</th>\n",
       "      <td>0.030426</td>\n",
       "      <td>0.270835</td>\n",
       "      <td>0.087250</td>\n",
       "      <td>0.870145</td>\n",
       "      <td>0.631707</td>\n",
       "      <td>-0.589102</td>\n",
       "    </tr>\n",
       "    <tr>\n",
       "      <th>3</th>\n",
       "      <td>0.206255</td>\n",
       "      <td>0.313833</td>\n",
       "      <td>0.714809</td>\n",
       "      <td>-0.932829</td>\n",
       "      <td>0.459311</td>\n",
       "      <td>0.758709</td>\n",
       "    </tr>\n",
       "    <tr>\n",
       "      <th>4</th>\n",
       "      <td>0.112121</td>\n",
       "      <td>0.184924</td>\n",
       "      <td>0.726358</td>\n",
       "      <td>0.082922</td>\n",
       "      <td>-0.400576</td>\n",
       "      <td>0.591296</td>\n",
       "    </tr>\n",
       "  </tbody>\n",
       "</table>\n",
       "</div>"
      ],
      "text/plain": [
       "   Portfolio Return  Portfolio Volatility  A Weight  B Weight  C Weight  \\\n",
       "0          0.306761              0.542018  0.273923 -0.460427 -0.918053   \n",
       "1         -0.025268              0.245827  0.626540  0.825511  0.213272   \n",
       "2          0.030426              0.270835  0.087250  0.870145  0.631707   \n",
       "3          0.206255              0.313833  0.714809 -0.932829  0.459311   \n",
       "4          0.112121              0.184924  0.726358  0.082922 -0.400576   \n",
       "\n",
       "   D Weight  \n",
       "0  2.104556  \n",
       "1 -0.665323  \n",
       "2 -0.589102  \n",
       "3  0.758709  \n",
       "4  0.591296  "
      ]
     },
     "execution_count": 63,
     "metadata": {},
     "output_type": "execute_result"
    }
   ],
   "source": [
    "# Calculate the porfolio returns and volatility\n",
    "portfolio_returns = np.dot(portfolio_weights, mean_returns_vector) \n",
    "\n",
    "# Vectorised approach using np.sum() instead of using np.dot() with portfolio_weights^T in a loop\n",
    "portfolio_volatility = np.sqrt(np.sum((np.dot(portfolio_weights, covariance_matrix) * portfolio_weights), axis=1))\n",
    "\n",
    "# Create a DataFrame for analysis\n",
    "portfolio_df = pd.DataFrame({\n",
    "    'Portfolio Return': portfolio_returns,\n",
    "    'Portfolio Volatility': portfolio_volatility\n",
    "})\n",
    "\n",
    "for i, asset in enumerate(assets):\n",
    "    portfolio_df[asset + ' Weight'] = portfolio_weights[:, i]\n",
    "\n",
    "portfolio_df.head()"
   ]
  },
  {
   "cell_type": "markdown",
   "metadata": {},
   "source": [
    "**4.3)** Plotting the Monte Carlo simulated portfolios with $\\mu_{\\Pi}$ plotted vertically and $\\sigma_{\\Pi}$ horizontally. To help describe the plot we will identify the simulated Minimum Variance Portfolio and Max-Sharpe Ratio Portfolio. We will also calculate the Sharpe Ratio for each simulation and plot this as our colour scale to help describe the relationship between $\\mu_{\\Pi}$ and $\\sigma_{\\Pi}$."
   ]
  },
  {
   "cell_type": "code",
   "execution_count": 66,
   "metadata": {},
   "outputs": [
    {
     "data": {
      "text/html": [
       "<div>\n",
       "<style scoped>\n",
       "    .dataframe tbody tr th:only-of-type {\n",
       "        vertical-align: middle;\n",
       "    }\n",
       "\n",
       "    .dataframe tbody tr th {\n",
       "        vertical-align: top;\n",
       "    }\n",
       "\n",
       "    .dataframe thead th {\n",
       "        text-align: right;\n",
       "    }\n",
       "</style>\n",
       "<table border=\"1\" class=\"dataframe\">\n",
       "  <thead>\n",
       "    <tr style=\"text-align: right;\">\n",
       "      <th></th>\n",
       "      <th>Portfolio Return</th>\n",
       "      <th>Portfolio Volatility</th>\n",
       "      <th>A Weight</th>\n",
       "      <th>B Weight</th>\n",
       "      <th>C Weight</th>\n",
       "      <th>D Weight</th>\n",
       "      <th>Sharpe Ratio</th>\n",
       "    </tr>\n",
       "  </thead>\n",
       "  <tbody>\n",
       "    <tr>\n",
       "      <th>0</th>\n",
       "      <td>0.306761</td>\n",
       "      <td>0.542018</td>\n",
       "      <td>0.273923</td>\n",
       "      <td>-0.460427</td>\n",
       "      <td>-0.918053</td>\n",
       "      <td>2.104556</td>\n",
       "      <td>0.565961</td>\n",
       "    </tr>\n",
       "    <tr>\n",
       "      <th>1</th>\n",
       "      <td>-0.025268</td>\n",
       "      <td>0.245827</td>\n",
       "      <td>0.626540</td>\n",
       "      <td>0.825511</td>\n",
       "      <td>0.213272</td>\n",
       "      <td>-0.665323</td>\n",
       "      <td>-0.102786</td>\n",
       "    </tr>\n",
       "    <tr>\n",
       "      <th>2</th>\n",
       "      <td>0.030426</td>\n",
       "      <td>0.270835</td>\n",
       "      <td>0.087250</td>\n",
       "      <td>0.870145</td>\n",
       "      <td>0.631707</td>\n",
       "      <td>-0.589102</td>\n",
       "      <td>0.112343</td>\n",
       "    </tr>\n",
       "    <tr>\n",
       "      <th>3</th>\n",
       "      <td>0.206255</td>\n",
       "      <td>0.313833</td>\n",
       "      <td>0.714809</td>\n",
       "      <td>-0.932829</td>\n",
       "      <td>0.459311</td>\n",
       "      <td>0.758709</td>\n",
       "      <td>0.657213</td>\n",
       "    </tr>\n",
       "    <tr>\n",
       "      <th>4</th>\n",
       "      <td>0.112121</td>\n",
       "      <td>0.184924</td>\n",
       "      <td>0.726358</td>\n",
       "      <td>0.082922</td>\n",
       "      <td>-0.400576</td>\n",
       "      <td>0.591296</td>\n",
       "      <td>0.606310</td>\n",
       "    </tr>\n",
       "  </tbody>\n",
       "</table>\n",
       "</div>"
      ],
      "text/plain": [
       "   Portfolio Return  Portfolio Volatility  A Weight  B Weight  C Weight  \\\n",
       "0          0.306761              0.542018  0.273923 -0.460427 -0.918053   \n",
       "1         -0.025268              0.245827  0.626540  0.825511  0.213272   \n",
       "2          0.030426              0.270835  0.087250  0.870145  0.631707   \n",
       "3          0.206255              0.313833  0.714809 -0.932829  0.459311   \n",
       "4          0.112121              0.184924  0.726358  0.082922 -0.400576   \n",
       "\n",
       "   D Weight  Sharpe Ratio  \n",
       "0  2.104556      0.565961  \n",
       "1 -0.665323     -0.102786  \n",
       "2 -0.589102      0.112343  \n",
       "3  0.758709      0.657213  \n",
       "4  0.591296      0.606310  "
      ]
     },
     "execution_count": 66,
     "metadata": {},
     "output_type": "execute_result"
    }
   ],
   "source": [
    "# Calculate the Sharpe Ratio for each portfolio\n",
    "portfolio_df['Sharpe Ratio'] = portfolio_df['Portfolio Return'] / portfolio_df['Portfolio Volatility']\n",
    "portfolio_df.head()"
   ]
  },
  {
   "cell_type": "code",
   "execution_count": 68,
   "metadata": {},
   "outputs": [
    {
     "data": {
      "image/png": "[encoded data removed]",
      "text/plain": [
       "<Figure size 1200x800 with 1 Axes>"
      ]
     },
     "metadata": {},
     "output_type": "display_data"
    }
   ],
   "source": [
    "# Plot the Monte Carlo simulation using matplotlib \n",
    "fig = plt.figure(figsize=(12, 8))\n",
    "plt.scatter(portfolio_df['Portfolio Volatility'], portfolio_df['Portfolio Return'], s=10, c=portfolio_df['Sharpe Ratio'], cmap='RdYlBu', marker='o', )\n",
    "plt.xlabel('Volatility, $\\sigma_{\\Pi}$')\n",
    "plt.ylabel('Return $\\mu_{\\Pi}$')\n",
    "plt.title('Monte Carlo Simulated Portfolios')\n",
    "plt.show()"
   ]
  },
  {
   "cell_type": "markdown",
   "metadata": {},
   "source": [
    "The plot shows"
   ]
  },
  {
   "cell_type": "markdown",
   "metadata": {},
   "source": [
    "**Question 5.** NASDAQ100 data provided (2017-2023) for you to implement the backtesting of 99\\%/10day Value at Risk and report the following:\n",
    "\n",
    "(a) The count and percentage of VaR breaches.\n",
    "\n",
    "(b) The count of consecutive VaR breaches. (1, 1, 1 indicates two consecutive occurrences)\n",
    "\n",
    "(c) Provide a plot which: identifies the breaches visually (crosses or other marks) and properly labels axis $\\mathrm{X}$ with at least years.\n",
    "\n",
    "(d) In your own words, describe the sequence of breaches caused by COVID pandemic news in 2020-Feb versus 2020-Mar.\n",
    "\n",
    "$$\n",
    "\\operatorname{VaR}_{10 D, t}=\\text { Factor } \\times \\sigma_{t} \\times \\sqrt{10}\n",
    "$$\n",
    "\n",
    "- Compute the rolling standard deviation $\\sigma_{t}$ from 21 daily returns.\n",
    "- Timescale of that $\\sigma_{t}$ remains 'daily' regardless of how many returns are in the sample. To make projection, use the additivity of variance $\\sigma_{10 D}=\\sqrt{\\sigma_{t}^{2} \\times 10}$.\n",
    "- A breach occurs when the forward realised 10-day return is below the $\\mathrm{VaR}_{t}$ quantity.\n",
    "\n",
    "$r_{10 D, t+10}<\\operatorname{VaR}_{10 D, t} \\quad$ means breach, given both numbers are negative.\n",
    "\n",
    "VaR is fixed at time $t$ and compared to the return realised from $t$ to $t+10$, computed $\\ln \\left(S_{t+10} / S_{t}\\right)$. Alternatively, you can compare to $\\ln \\left(S_{t+11} / S_{t+1}\\right)$ but state this assumption in your report upfront.\n",
    "\n",
    "**Question 6.** Re-implement backtesting using the method above, recompute $\\mathrm{VaR}_{10 D, t}$ but, with the input of EWMA $\\sigma_{t+1}^{2}$. Use the variance for the entire dataset to initialise the scheme.\n",
    "\n",
    "$$\n",
    "\\sigma_{t+1 \\mid t}^{2}=\\lambda \\sigma_{t \\mid t-1}^{2}+(1-\\lambda) r_{t}^{2}\n",
    "$$\n",
    "\n",
    "with $\\lambda=0.72$ value set to minimise out of sample forecasting error.\n",
    "\n",
    "Hint: computation of EWMA $\\sigma_{t+1}^{2}$ is not sufficient, proceed to compute $\\operatorname{VaR}_{10 D, t}$ and count breaches in VaR.\n",
    "\n",
    "(a-c) Provide the same deliverables (a), (b) and (c) as in the previous Question.\n",
    "\n",
    "(d) Briefly (3-4 lines) discuss the impact of $\\lambda$ on smoothness of EWMA-predicted volatility.\n"
   ]
  }
 ],
 "metadata": {
  "kernelspec": {
   "display_name": "cqf",
   "language": "python",
   "name": "python3"
  },
  "language_info": {
   "codemirror_mode": {
    "name": "ipython",
    "version": 3
   },
   "file_extension": ".py",
   "mimetype": "text/x-python",
   "name": "python",
   "nbconvert_exporter": "python",
   "pygments_lexer": "ipython3",
   "version": "3.8.17"
  },
  "orig_nbformat": 4
 },
 "nbformat": 4,
 "nbformat_minor": 2
}
